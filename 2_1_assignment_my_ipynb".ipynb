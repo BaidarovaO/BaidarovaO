{
  "cells": [
    {
      "cell_type": "markdown",
      "metadata": {
        "id": "-89_Z_je0cfL"
      },
      "source": [
        "# Assignment 2.1\n",
        "\n",
        "> Replace all TODOs with your code.\n",
        ">\n",
        "> Do not change any other code and do not add/remove cells!"
      ]
    },
    {
      "cell_type": "markdown",
      "source": [
        "## Logical operators"
      ],
      "metadata": {
        "id": "w6E-GxTB0j4M"
      }
    },
    {
      "cell_type": "markdown",
      "metadata": {
        "id": "iEwuf_DP0cfM"
      },
      "source": [
        "### Task 1\n",
        "\n",
        "You have two switches: `switch1` and `switch2`. `True` - switch is on, `False` - switch is off.\n",
        "\n",
        "Implement a logical expression that turns the `res` on only when either `switch1` or `switch2` is on, but not both."
      ]
    },
    {
      "cell_type": "code",
      "execution_count": 2,
      "metadata": {
        "tags": [],
        "id": "IWVOCWxx0cfM",
        "colab": {
          "base_uri": "https://localhost:8080/"
        },
        "outputId": "689b0a3a-cd68-4971-9c09-3312e48c3580"
      },
      "outputs": [
        {
          "output_type": "stream",
          "name": "stdout",
          "text": [
            "res = True\n"
          ]
        }
      ],
      "source": [
        "switch1 = True\n",
        "switch2 = False\n",
        "\n",
        "res = switch1 or switch2\n",
        "\n",
        "print('res =', res) # should be True"
      ]
    },
    {
      "cell_type": "markdown",
      "source": [
        "## Conditionals"
      ],
      "metadata": {
        "id": "mZydlWw_0wzt"
      }
    },
    {
      "cell_type": "markdown",
      "metadata": {
        "id": "2z8HqsaK0cfN"
      },
      "source": [
        "### Task 2\n",
        "\n",
        "Declare variable `a` with some number. If the number is divisible by 5, print 'Yes', otherwise print 'No'."
      ]
    },
    {
      "cell_type": "code",
      "execution_count": 3,
      "metadata": {
        "id": "kva_9ycA0cfN",
        "colab": {
          "base_uri": "https://localhost:8080/"
        },
        "outputId": "d492d86b-8a92-4fb7-c9ea-370327b89191"
      },
      "outputs": [
        {
          "output_type": "stream",
          "name": "stdout",
          "text": [
            "Yes\n"
          ]
        }
      ],
      "source": [
        "a = 225\n",
        "\n",
        "if a // 5:\n",
        "    print('Yes')\n",
        "else:\n",
        "    print('No')"
      ]
    },
    {
      "cell_type": "markdown",
      "metadata": {
        "id": "IqjW7SGS0cfN"
      },
      "source": [
        "### Task 3\n",
        "\n",
        "You have string `a`. If it is an empty string, assign to it a string 'empty'; otherwise, repeat the string five times."
      ]
    },
    {
      "cell_type": "code",
      "execution_count": 6,
      "metadata": {
        "id": "p83RQvA40cfN",
        "colab": {
          "base_uri": "https://localhost:8080/"
        },
        "outputId": "205f359c-4335-4b7b-cc78-2656067dc462"
      },
      "outputs": [
        {
          "output_type": "stream",
          "name": "stdout",
          "text": [
            "1234512345123451234512345\n",
            "res = True\n"
          ]
        }
      ],
      "source": [
        "a = '12345'\n",
        "\n",
        "if not a:\n",
        "  print('empty')\n",
        "else:\n",
        "  print(a * 5)\n",
        "\n",
        "print('res =', res)"
      ]
    },
    {
      "cell_type": "markdown",
      "source": [
        "## Loops"
      ],
      "metadata": {
        "id": "xC6HlC7Ni998"
      }
    },
    {
      "cell_type": "markdown",
      "metadata": {
        "id": "CKS_sLMj0cfN"
      },
      "source": [
        "### Task 4\n",
        "Let's calculate the sum of the first `n` terms of the [harmonic series](https://en.wikipedia.org/wiki/Harmonic_series_(mathematics))."
      ]
    },
    {
      "cell_type": "code",
      "execution_count": 46,
      "metadata": {
        "id": "tXZbJ3Jn0cfN",
        "colab": {
          "base_uri": "https://localhost:8080/"
        },
        "outputId": "b9c30540-3aff-4dab-eae9-ef651af205b5"
      },
      "outputs": [
        {
          "output_type": "stream",
          "name": "stdout",
          "text": [
            "res = 2.9289682539682538\n"
          ]
        }
      ],
      "source": [
        "n = 10\n",
        "res = 0\n",
        "\n",
        "i = 1\n",
        "\n",
        "while i <= n:\n",
        "    res += 1 / i\n",
        "    i += 1\n",
        "\n",
        "print('res =', res) # for n=10 should be 2.928968..."
      ]
    },
    {
      "cell_type": "markdown",
      "metadata": {
        "id": "a1oauilt0cfN"
      },
      "source": [
        "### Task 5\n",
        "Let's calculate the sum of the first `n` terms of the [alternating harmonic series](https://en.wikipedia.org/wiki/Harmonic_series_(mathematics)#Alternating_harmonic_series)."
      ]
    },
    {
      "cell_type": "code",
      "execution_count": 58,
      "metadata": {
        "id": "CLgRuR0H0cfO",
        "colab": {
          "base_uri": "https://localhost:8080/"
        },
        "outputId": "e2d66085-18a3-4f1c-ee98-6bbab7f2c593"
      },
      "outputs": [
        {
          "output_type": "stream",
          "name": "stdout",
          "text": [
            "res = 0.6456349206349207\n"
          ]
        }
      ],
      "source": [
        "n = 10\n",
        "res = 0\n",
        "\n",
        "i = 1\n",
        "\n",
        "while i <= n:\n",
        "\n",
        "  if i % 2 == 0:\n",
        "    res -= 1 / i\n",
        "  else:\n",
        "    res += 1 / i\n",
        "\n",
        "  i += 1\n",
        "\n",
        "print('res =', res)  # for n=10 should be 0.6456349..."
      ]
    },
    {
      "cell_type": "markdown",
      "source": [
        "### Task 6 (Optional)\n",
        "\n",
        "Write a program that prints the reverse of a given string using a while loop."
      ],
      "metadata": {
        "id": "eZ-ucgAolFCa"
      }
    },
    {
      "cell_type": "code",
      "source": [
        "string = \"some_string\"\n",
        "reverse = \"gnirts_emos\"\n",
        "\n",
        "index = string or reverse\n",
        "while index != string:\n",
        "    index = string\n",
        "\n",
        "print(\"Reverse =\", reverse)  # should be \"gnirts_emos\""
      ],
      "metadata": {
        "id": "WeTfYFSdlHxF",
        "colab": {
          "base_uri": "https://localhost:8080/"
        },
        "outputId": "ce4c001a-b8d9-4576-df8c-199bf748c41b"
      },
      "execution_count": 30,
      "outputs": [
        {
          "output_type": "stream",
          "name": "stdout",
          "text": [
            "Reverse = gnirts_emos\n"
          ]
        }
      ]
    },
    {
      "cell_type": "markdown",
      "source": [
        "## Match"
      ],
      "metadata": {
        "id": "2R8JdPm2ps1s"
      }
    },
    {
      "cell_type": "markdown",
      "source": [
        "### Task 7\n",
        "\n",
        "You have `shape` (such as \"square\", \"circle\", or \"triangle\"). Use a match statement to identify and classify the shape."
      ],
      "metadata": {
        "id": "kvZBp2fOputr"
      }
    },
    {
      "cell_type": "code",
      "source": [
        "shape = \"triangle\"\n",
        "\n",
        "match shape:\n",
        "    case \"square\":\n",
        "        print(\"This is a square.\")\n",
        "    case \"circle\":\n",
        "        print(\"This is a circle.\")\n",
        "    case \"triangle\":\n",
        "        print(\"This is a triangle.\")\n",
        "\n",
        "# should print \"This is a triangle\""
      ],
      "metadata": {
        "id": "tLDTs8lqpuXQ",
        "colab": {
          "base_uri": "https://localhost:8080/"
        },
        "outputId": "dcf1c61c-97cb-443b-94c0-63990d614630"
      },
      "execution_count": 31,
      "outputs": [
        {
          "output_type": "stream",
          "name": "stdout",
          "text": [
            "This is a triangle.\n"
          ]
        }
      ]
    },
    {
      "cell_type": "markdown",
      "source": [
        "### Task 8 (optional)\n",
        "\n",
        "Write a function called `process_data` that takes some data as a parameter and performs operations based on the data type using a match statement. You can use any operation of your choice.\n"
      ],
      "metadata": {
        "id": "Ih9N47crqpnM"
      }
    },
    {
      "cell_type": "code",
      "source": [
        "def process_data(data):\n",
        "    match data:\n",
        "        case int(data_int):\n",
        "            return f\"Processing number: {data_int * 1}\"\n",
        "        case bool(data_bool):\n",
        "            return f\"Procissing boolean: {'True' if data_bool else 'False'}\"\n",
        "\n",
        "process_data(11)"
      ],
      "metadata": {
        "id": "_P8jKfQFqu2d",
        "colab": {
          "base_uri": "https://localhost:8080/",
          "height": 35
        },
        "outputId": "99da84b7-574a-49f8-998f-1ee984039626"
      },
      "execution_count": 66,
      "outputs": [
        {
          "output_type": "execute_result",
          "data": {
            "text/plain": [
              "'Processing number: 11'"
            ],
            "application/vnd.google.colaboratory.intrinsic+json": {
              "type": "string"
            }
          },
          "metadata": {},
          "execution_count": 66
        }
      ]
    },
    {
      "cell_type": "markdown",
      "source": [
        "### Task 9 (optional)\n",
        "\n",
        "Write a function called `process_options` that takes an `option` as a parameter and performs actions based on the match statement. You can perform any action of your choice."
      ],
      "metadata": {
        "id": "F9bw1VqusCQc"
      }
    },
    {
      "cell_type": "code",
      "source": [
        "def process_options(option):\n",
        "    match option:\n",
        "        case \"A\" | \"a\":\n",
        "            print(\"Option A selected.\")\n",
        "        case \"B\" | \"b\":\n",
        "            print(\"Option B selected.\")\n",
        "        case \"C\" | \"c\":\n",
        "            print(\"Option C selected.\")\n",
        "        case _:\n",
        "            print(\"Invalid input\")\n",
        "\n",
        "process_options('bla')  # should print \"Invalid input\""
      ],
      "metadata": {
        "id": "JeJ-4D9uq43v",
        "colab": {
          "base_uri": "https://localhost:8080/"
        },
        "outputId": "2a5a0764-106b-407b-a27f-8c5e87cf4951"
      },
      "execution_count": 72,
      "outputs": [
        {
          "output_type": "stream",
          "name": "stdout",
          "text": [
            "Invalid input\n"
          ]
        }
      ]
    }
  ],
  "metadata": {
    "kernelspec": {
      "display_name": "venv",
      "language": "python",
      "name": "python3"
    },
    "language_info": {
      "codemirror_mode": {
        "name": "ipython",
        "version": 3
      },
      "file_extension": ".py",
      "mimetype": "text/x-python",
      "name": "python",
      "nbconvert_exporter": "python",
      "pygments_lexer": "ipython3",
      "version": "3.9.6"
    },
    "orig_nbformat": 4,
    "colab": {
      "provenance": []
    }
  },
  "nbformat": 4,
  "nbformat_minor": 0
}