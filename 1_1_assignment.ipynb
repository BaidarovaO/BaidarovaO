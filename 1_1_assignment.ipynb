{
  "cells": [
    {
      "cell_type": "markdown",
      "metadata": {
        "id": "view-in-github",
        "colab_type": "text"
      },
      "source": [
        "<a href=\"https://colab.research.google.com/github/BaidarovaO/BaidarovaO/blob/main/1_1_assignment.ipynb\" target=\"_parent\"><img src=\"https://colab.research.google.com/assets/colab-badge.svg\" alt=\"Open In Colab\"/></a>"
      ]
    },
    {
      "cell_type": "markdown",
      "metadata": {
        "id": "oY7M_WqQy7zz"
      },
      "source": [
        "# Assignment 1.1\n",
        "\n",
        "> Replace all TODOs with your code. Do not change any other code."
      ]
    },
    {
      "cell_type": "markdown",
      "metadata": {
        "id": "Jz8SYjAz0N8D"
      },
      "source": [
        "## Basics"
      ]
    },
    {
      "cell_type": "markdown",
      "metadata": {
        "id": "IHwd1Zzby7z1"
      },
      "source": [
        "### Task 1\n",
        "\n",
        "a. Write a program that prints the number 10.\n",
        "\n",
        "b. Declare another variable `res2` with value 10. Print IDs of both.\n",
        "\n",
        "c. Declare two other variables with the value 10000. Print IDs of both."
      ]
    },
    {
      "cell_type": "code",
      "execution_count": null,
      "metadata": {
        "id": "UfB0dnXHy7z2",
        "tags": [
          "task_1a"
        ],
        "colab": {
          "base_uri": "https://localhost:8080/"
        },
        "outputId": "c4505d89-aee3-4196-9652-305b6c1eefa4"
      },
      "outputs": [
        {
          "output_type": "stream",
          "name": "stdout",
          "text": [
            "10\n",
            "10\n"
          ]
        }
      ],
      "source": [
        "print(10)\n",
        "res = 10\n",
        "print(res)"
      ]
    },
    {
      "cell_type": "code",
      "execution_count": null,
      "metadata": {
        "id": "VtHGOji2zOfq",
        "tags": [
          "task_1b"
        ],
        "colab": {
          "base_uri": "https://localhost:8080/"
        },
        "outputId": "e0851d9c-bb6c-411e-c34a-98a6bd8041cf"
      },
      "outputs": [
        {
          "output_type": "stream",
          "name": "stdout",
          "text": [
            "137300858602000 137300858602000\n"
          ]
        }
      ],
      "source": [
        "res2 = 10\n",
        "print(id(res), id(res2))"
      ]
    },
    {
      "cell_type": "code",
      "execution_count": null,
      "metadata": {
        "id": "c-ca4slRzO92",
        "tags": [
          "task_1c"
        ],
        "colab": {
          "base_uri": "https://localhost:8080/"
        },
        "outputId": "fdfa8609-65d5-4e9d-f48f-ca0426f79bb6"
      },
      "outputs": [
        {
          "output_type": "stream",
          "name": "stdout",
          "text": [
            "137300428349968 137300428355504\n"
          ]
        }
      ],
      "source": [
        "res3 = 10000\n",
        "res4 = 10000\n",
        "print(id(res3), id(res4))"
      ]
    },
    {
      "cell_type": "markdown",
      "metadata": {
        "id": "lL-ELM-Ay7z2"
      },
      "source": [
        "### Task 2\n",
        "\n",
        "Now, write a program that gets a name from a user and prints \"Hello, <name>\"."
      ]
    },
    {
      "cell_type": "code",
      "execution_count": null,
      "metadata": {
        "id": "cibiSsjry7z3",
        "tags": [
          "task_2"
        ],
        "colab": {
          "base_uri": "https://localhost:8080/"
        },
        "outputId": "75f580f5-aaa1-41fe-fc8e-a45684850080"
      },
      "outputs": [
        {
          "output_type": "stream",
          "name": "stdout",
          "text": [
            "Hello, 26\n"
          ]
        }
      ],
      "source": [
        "name = 26\n",
        "print('Hello,',(name))"
      ]
    },
    {
      "cell_type": "markdown",
      "metadata": {
        "id": "oGnwHD6h0SVW"
      },
      "source": [
        "## Variables"
      ]
    },
    {
      "cell_type": "markdown",
      "metadata": {
        "id": "saWNjvtKy7z3"
      },
      "source": [
        "### Task 3\n",
        "\n",
        "Write a program that gets two int variables and swaps their values. Do it in 3 different ways."
      ]
    },
    {
      "cell_type": "code",
      "execution_count": 26,
      "metadata": {
        "id": "V0T9Dybqy7z3",
        "tags": [
          "task_4a"
        ],
        "colab": {
          "base_uri": "https://localhost:8080/"
        },
        "outputId": "c5cb5234-a378-4484-a71b-46b0d467d6c4"
      },
      "outputs": [
        {
          "output_type": "stream",
          "name": "stdout",
          "text": [
            "Option 1\n",
            "a = 5 b = 3\n"
          ]
        }
      ],
      "source": [
        "print('Option 1')\n",
        "a = 3\n",
        "b = 5\n",
        "id(a)\n",
        "a = b\n",
        "b = 3\n",
        "print('a =', a, 'b =', b)  # should print \"a = 5 b = 3\""
      ]
    },
    {
      "cell_type": "code",
      "execution_count": 31,
      "metadata": {
        "id": "cs5yNlMDy7z3",
        "tags": [
          "task_4b"
        ],
        "colab": {
          "base_uri": "https://localhost:8080/"
        },
        "outputId": "b97f1cc9-75bc-41b9-813e-3cf304c372c2"
      },
      "outputs": [
        {
          "output_type": "stream",
          "name": "stdout",
          "text": [
            "Option 2\n",
            "a = 5 b = 3\n"
          ]
        }
      ],
      "source": [
        "print('Option 2')\n",
        "a = 3\n",
        "b = 5\n",
        "id(b)\n",
        "b = 3\n",
        "a = 5\n",
        "print('a =', a, 'b =', b)  # should print \"a = 5 b = 3\""
      ]
    },
    {
      "cell_type": "code",
      "execution_count": 32,
      "metadata": {
        "id": "iCRsMwrsy7z3",
        "tags": [
          "task_4c"
        ],
        "colab": {
          "base_uri": "https://localhost:8080/"
        },
        "outputId": "82fa4ef7-8d35-483b-da25-3f78fecf0260"
      },
      "outputs": [
        {
          "output_type": "stream",
          "name": "stdout",
          "text": [
            "Option 3\n",
            "a = 5 b = 3\n"
          ]
        }
      ],
      "source": [
        "print('Option 3')\n",
        "a = 3\n",
        "b = 5\n",
        "a = (3 + 2)\n",
        "b = (5 - 2)\n",
        "print('a =', a, 'b =', b)  # should print \"a = 5 b = 3\""
      ]
    },
    {
      "cell_type": "markdown",
      "metadata": {
        "id": "5DzFkKwx0VI5"
      },
      "source": [
        "## Numbers"
      ]
    },
    {
      "cell_type": "markdown",
      "metadata": {
        "id": "nP0LlORsy7z4"
      },
      "source": [
        "### Task 4\n",
        "\n",
        "Write a program that gets two numbers from the user. Print to the console the maximum of these two variables."
      ]
    },
    {
      "cell_type": "code",
      "execution_count": 54,
      "metadata": {
        "id": "RiIm_kUSy7z4",
        "tags": [
          "task_5"
        ],
        "colab": {
          "base_uri": "https://localhost:8080/"
        },
        "outputId": "ded4f61a-d7d6-4d0f-81f9-b35355ffaa08"
      },
      "outputs": [
        {
          "output_type": "stream",
          "name": "stdout",
          "text": [
            "res = 6\n"
          ]
        }
      ],
      "source": [
        "a = 4\n",
        "b = 6\n",
        "res = max(a, b)\n",
        "print('res =', res)"
      ]
    },
    {
      "cell_type": "markdown",
      "metadata": {
        "id": "hU1yDEnzy7z4"
      },
      "source": [
        "### Task 5\n",
        "\n",
        "You have two variables, `x1` and `x2`. Complete the program that calculates the following function:\n",
        "\n",
        "$$ f(x_1, x_2) = x_1 ^ {\\frac{x_2 - 1}{2}} $$"
      ]
    },
    {
      "cell_type": "code",
      "execution_count": 38,
      "metadata": {
        "id": "8sOSsdKiy7z4",
        "tags": [
          "task_6"
        ],
        "colab": {
          "base_uri": "https://localhost:8080/"
        },
        "outputId": "f5d4ce1f-71bb-4072-c09a-4aeaf41ab147"
      },
      "outputs": [
        {
          "output_type": "stream",
          "name": "stdout",
          "text": [
            "res = 100.0\n"
          ]
        }
      ],
      "source": [
        "x1 = 10\n",
        "x2 = 5\n",
        "res = x1**((x2-1)/2)\n",
        "print('res =', res)  # should be 100.0"
      ]
    },
    {
      "cell_type": "code",
      "source": [],
      "metadata": {
        "id": "skf70zOsuzEk"
      },
      "execution_count": null,
      "outputs": []
    },
    {
      "cell_type": "markdown",
      "metadata": {
        "id": "NbbRIcyqy7z4"
      },
      "source": [
        "### Task 6 (optional)\n",
        "\n",
        "You have a variable `x`, always a two-digit number (e.g., `10` or `57`). Complete the program that gets the last digit of this number (e.g., `10 -> 0`, `57 -> 7`)."
      ]
    },
    {
      "cell_type": "markdown",
      "source": [],
      "metadata": {
        "id": "1_ccLZuluykr"
      }
    },
    {
      "cell_type": "code",
      "execution_count": 39,
      "metadata": {
        "id": "2K8klEkzy7z4",
        "tags": [
          "task_7"
        ],
        "colab": {
          "base_uri": "https://localhost:8080/"
        },
        "outputId": "14a79753-1647-4da8-9934-3834955ee0c3"
      },
      "outputs": [
        {
          "output_type": "stream",
          "name": "stdout",
          "text": [
            "res = 7\n"
          ]
        }
      ],
      "source": [
        "x = 57\n",
        "res = 57 - 50\n",
        "print('res =', res)  # should be 7"
      ]
    }
  ],
  "metadata": {
    "colab": {
      "provenance": [],
      "toc_visible": true,
      "include_colab_link": true
    },
    "kernelspec": {
      "display_name": "venv",
      "language": "python",
      "name": "python3"
    },
    "language_info": {
      "codemirror_mode": {
        "name": "ipython",
        "version": 3
      },
      "file_extension": ".py",
      "mimetype": "text/x-python",
      "name": "python",
      "nbconvert_exporter": "python",
      "pygments_lexer": "ipython3",
      "version": "3.9.6"
    },
    "orig_nbformat": 4
  },
  "nbformat": 4,
  "nbformat_minor": 0
}